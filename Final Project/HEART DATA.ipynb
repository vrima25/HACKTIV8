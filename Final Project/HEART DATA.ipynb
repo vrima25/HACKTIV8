{
 "cells": [
  {
   "cell_type": "markdown",
   "id": "fba7eb23",
   "metadata": {},
   "source": [
    "# import package yang diperlukan"
   ]
  },
  {
   "cell_type": "code",
   "execution_count": 2,
   "id": "c28a484b",
   "metadata": {},
   "outputs": [],
   "source": [
    "import numpy as np\n",
    "import pandas as pd\n",
    "import matplotlib.pyplot as plt\n",
    "import seaborn as sns\n",
    "\n",
    "from sklearn.linear_model import LinearRegression\n",
    "from sklearn.preprocessing import PolynomialFeatures\n",
    "from sklearn.linear_model import LogisticRegression\n",
    "from sklearn.metrics import accuracy_score, confusion_matrix\n",
    "from sklearn.model_selection import train_test_split\n",
    "from sklearn.ensemble import RandomForestClassifier\n",
    "from sklearn.neighbors import KNeighborsClassifier\n",
    "from sklearn import tree\n",
    "from sklearn import svm\n",
    "from sklearn.naive_bayes import GaussianNB"
   ]
  },
  {
   "cell_type": "markdown",
   "id": "c62af2a6",
   "metadata": {},
   "source": [
    "## Import Data Frame"
   ]
  },
  {
   "cell_type": "code",
   "execution_count": 3,
   "id": "91a2b113",
   "metadata": {},
   "outputs": [],
   "source": [
    "df = pd.read_csv('heart.csv')"
   ]
  },
  {
   "cell_type": "code",
   "execution_count": 4,
   "id": "fe4f86a2",
   "metadata": {},
   "outputs": [
    {
     "name": "stdout",
     "output_type": "stream",
     "text": [
      "<class 'pandas.core.frame.DataFrame'>\n",
      "RangeIndex: 1025 entries, 0 to 1024\n",
      "Data columns (total 14 columns):\n",
      " #   Column    Non-Null Count  Dtype  \n",
      "---  ------    --------------  -----  \n",
      " 0   age       1025 non-null   int64  \n",
      " 1   sex       1025 non-null   int64  \n",
      " 2   cp        1025 non-null   int64  \n",
      " 3   trestbps  1025 non-null   int64  \n",
      " 4   chol      1025 non-null   int64  \n",
      " 5   fbs       1025 non-null   int64  \n",
      " 6   restecg   1025 non-null   int64  \n",
      " 7   thalach   1025 non-null   int64  \n",
      " 8   exang     1025 non-null   int64  \n",
      " 9   oldpeak   1025 non-null   float64\n",
      " 10  slope     1025 non-null   int64  \n",
      " 11  ca        1025 non-null   int64  \n",
      " 12  thal      1025 non-null   int64  \n",
      " 13  target    1025 non-null   int64  \n",
      "dtypes: float64(1), int64(13)\n",
      "memory usage: 112.2 KB\n"
     ]
    }
   ],
   "source": [
    "#tampilkan informasi data frame\n",
    "df.info()"
   ]
  },
  {
   "cell_type": "code",
   "execution_count": 5,
   "id": "008d197a",
   "metadata": {},
   "outputs": [
    {
     "data": {
      "text/html": [
       "<div>\n",
       "<style scoped>\n",
       "    .dataframe tbody tr th:only-of-type {\n",
       "        vertical-align: middle;\n",
       "    }\n",
       "\n",
       "    .dataframe tbody tr th {\n",
       "        vertical-align: top;\n",
       "    }\n",
       "\n",
       "    .dataframe thead th {\n",
       "        text-align: right;\n",
       "    }\n",
       "</style>\n",
       "<table border=\"1\" class=\"dataframe\">\n",
       "  <thead>\n",
       "    <tr style=\"text-align: right;\">\n",
       "      <th></th>\n",
       "      <th>age</th>\n",
       "      <th>sex</th>\n",
       "      <th>cp</th>\n",
       "      <th>trestbps</th>\n",
       "      <th>chol</th>\n",
       "      <th>fbs</th>\n",
       "      <th>restecg</th>\n",
       "      <th>thalach</th>\n",
       "      <th>exang</th>\n",
       "      <th>oldpeak</th>\n",
       "      <th>slope</th>\n",
       "      <th>ca</th>\n",
       "      <th>thal</th>\n",
       "      <th>target</th>\n",
       "    </tr>\n",
       "  </thead>\n",
       "  <tbody>\n",
       "    <tr>\n",
       "      <th>0</th>\n",
       "      <td>52</td>\n",
       "      <td>1</td>\n",
       "      <td>0</td>\n",
       "      <td>125</td>\n",
       "      <td>212</td>\n",
       "      <td>0</td>\n",
       "      <td>1</td>\n",
       "      <td>168</td>\n",
       "      <td>0</td>\n",
       "      <td>1.0</td>\n",
       "      <td>2</td>\n",
       "      <td>2</td>\n",
       "      <td>3</td>\n",
       "      <td>0</td>\n",
       "    </tr>\n",
       "    <tr>\n",
       "      <th>1</th>\n",
       "      <td>53</td>\n",
       "      <td>1</td>\n",
       "      <td>0</td>\n",
       "      <td>140</td>\n",
       "      <td>203</td>\n",
       "      <td>1</td>\n",
       "      <td>0</td>\n",
       "      <td>155</td>\n",
       "      <td>1</td>\n",
       "      <td>3.1</td>\n",
       "      <td>0</td>\n",
       "      <td>0</td>\n",
       "      <td>3</td>\n",
       "      <td>0</td>\n",
       "    </tr>\n",
       "    <tr>\n",
       "      <th>2</th>\n",
       "      <td>70</td>\n",
       "      <td>1</td>\n",
       "      <td>0</td>\n",
       "      <td>145</td>\n",
       "      <td>174</td>\n",
       "      <td>0</td>\n",
       "      <td>1</td>\n",
       "      <td>125</td>\n",
       "      <td>1</td>\n",
       "      <td>2.6</td>\n",
       "      <td>0</td>\n",
       "      <td>0</td>\n",
       "      <td>3</td>\n",
       "      <td>0</td>\n",
       "    </tr>\n",
       "    <tr>\n",
       "      <th>3</th>\n",
       "      <td>61</td>\n",
       "      <td>1</td>\n",
       "      <td>0</td>\n",
       "      <td>148</td>\n",
       "      <td>203</td>\n",
       "      <td>0</td>\n",
       "      <td>1</td>\n",
       "      <td>161</td>\n",
       "      <td>0</td>\n",
       "      <td>0.0</td>\n",
       "      <td>2</td>\n",
       "      <td>1</td>\n",
       "      <td>3</td>\n",
       "      <td>0</td>\n",
       "    </tr>\n",
       "    <tr>\n",
       "      <th>4</th>\n",
       "      <td>62</td>\n",
       "      <td>0</td>\n",
       "      <td>0</td>\n",
       "      <td>138</td>\n",
       "      <td>294</td>\n",
       "      <td>1</td>\n",
       "      <td>1</td>\n",
       "      <td>106</td>\n",
       "      <td>0</td>\n",
       "      <td>1.9</td>\n",
       "      <td>1</td>\n",
       "      <td>3</td>\n",
       "      <td>2</td>\n",
       "      <td>0</td>\n",
       "    </tr>\n",
       "    <tr>\n",
       "      <th>5</th>\n",
       "      <td>58</td>\n",
       "      <td>0</td>\n",
       "      <td>0</td>\n",
       "      <td>100</td>\n",
       "      <td>248</td>\n",
       "      <td>0</td>\n",
       "      <td>0</td>\n",
       "      <td>122</td>\n",
       "      <td>0</td>\n",
       "      <td>1.0</td>\n",
       "      <td>1</td>\n",
       "      <td>0</td>\n",
       "      <td>2</td>\n",
       "      <td>1</td>\n",
       "    </tr>\n",
       "    <tr>\n",
       "      <th>6</th>\n",
       "      <td>58</td>\n",
       "      <td>1</td>\n",
       "      <td>0</td>\n",
       "      <td>114</td>\n",
       "      <td>318</td>\n",
       "      <td>0</td>\n",
       "      <td>2</td>\n",
       "      <td>140</td>\n",
       "      <td>0</td>\n",
       "      <td>4.4</td>\n",
       "      <td>0</td>\n",
       "      <td>3</td>\n",
       "      <td>1</td>\n",
       "      <td>0</td>\n",
       "    </tr>\n",
       "    <tr>\n",
       "      <th>7</th>\n",
       "      <td>55</td>\n",
       "      <td>1</td>\n",
       "      <td>0</td>\n",
       "      <td>160</td>\n",
       "      <td>289</td>\n",
       "      <td>0</td>\n",
       "      <td>0</td>\n",
       "      <td>145</td>\n",
       "      <td>1</td>\n",
       "      <td>0.8</td>\n",
       "      <td>1</td>\n",
       "      <td>1</td>\n",
       "      <td>3</td>\n",
       "      <td>0</td>\n",
       "    </tr>\n",
       "    <tr>\n",
       "      <th>8</th>\n",
       "      <td>46</td>\n",
       "      <td>1</td>\n",
       "      <td>0</td>\n",
       "      <td>120</td>\n",
       "      <td>249</td>\n",
       "      <td>0</td>\n",
       "      <td>0</td>\n",
       "      <td>144</td>\n",
       "      <td>0</td>\n",
       "      <td>0.8</td>\n",
       "      <td>2</td>\n",
       "      <td>0</td>\n",
       "      <td>3</td>\n",
       "      <td>0</td>\n",
       "    </tr>\n",
       "    <tr>\n",
       "      <th>9</th>\n",
       "      <td>54</td>\n",
       "      <td>1</td>\n",
       "      <td>0</td>\n",
       "      <td>122</td>\n",
       "      <td>286</td>\n",
       "      <td>0</td>\n",
       "      <td>0</td>\n",
       "      <td>116</td>\n",
       "      <td>1</td>\n",
       "      <td>3.2</td>\n",
       "      <td>1</td>\n",
       "      <td>2</td>\n",
       "      <td>2</td>\n",
       "      <td>0</td>\n",
       "    </tr>\n",
       "  </tbody>\n",
       "</table>\n",
       "</div>"
      ],
      "text/plain": [
       "   age  sex  cp  trestbps  chol  fbs  restecg  thalach  exang  oldpeak  slope  \\\n",
       "0   52    1   0       125   212    0        1      168      0      1.0      2   \n",
       "1   53    1   0       140   203    1        0      155      1      3.1      0   \n",
       "2   70    1   0       145   174    0        1      125      1      2.6      0   \n",
       "3   61    1   0       148   203    0        1      161      0      0.0      2   \n",
       "4   62    0   0       138   294    1        1      106      0      1.9      1   \n",
       "5   58    0   0       100   248    0        0      122      0      1.0      1   \n",
       "6   58    1   0       114   318    0        2      140      0      4.4      0   \n",
       "7   55    1   0       160   289    0        0      145      1      0.8      1   \n",
       "8   46    1   0       120   249    0        0      144      0      0.8      2   \n",
       "9   54    1   0       122   286    0        0      116      1      3.2      1   \n",
       "\n",
       "   ca  thal  target  \n",
       "0   2     3       0  \n",
       "1   0     3       0  \n",
       "2   0     3       0  \n",
       "3   1     3       0  \n",
       "4   3     2       0  \n",
       "5   0     2       1  \n",
       "6   3     1       0  \n",
       "7   1     3       0  \n",
       "8   0     3       0  \n",
       "9   2     2       0  "
      ]
     },
     "execution_count": 5,
     "metadata": {},
     "output_type": "execute_result"
    }
   ],
   "source": [
    "#dari info di atas diketahui bahwa data frame tidak memiliki data null\n",
    "#Tampilkan data teratas dari data frame\n",
    "df.head(10)"
   ]
  },
  {
   "cell_type": "code",
   "execution_count": 6,
   "id": "2c457244",
   "metadata": {},
   "outputs": [],
   "source": [
    "#tentukan kolom feature dan kolom target\n",
    "x = df.drop('target', 1)\n",
    "y = df.target\n",
    "\n",
    "#split data menjadi data train dan data test dengan rasio 30% untuk data test\n",
    "x_train, x_test, y_train, y_test = train_test_split(x, y, test_size = 0.3)"
   ]
  },
  {
   "cell_type": "markdown",
   "id": "c2586030",
   "metadata": {},
   "source": [
    "# Analisa Data Menggunakan Metode-Metode berikut"
   ]
  },
  {
   "cell_type": "markdown",
   "id": "7d925164",
   "metadata": {},
   "source": [
    "### a. Linear Regression"
   ]
  },
  {
   "cell_type": "code",
   "execution_count": 9,
   "id": "7912d433",
   "metadata": {},
   "outputs": [
    {
     "name": "stdout",
     "output_type": "stream",
     "text": [
      "Accuracy score : \n",
      "0.500022603537717\n"
     ]
    }
   ],
   "source": [
    "#buat model regresi\n",
    "model_reg = LinearRegression().fit(x_train, y_train)\n",
    "\n",
    "#Tentukan skor akurasi dari model\n",
    "print('Accuracy score : ')\n",
    "print(model_reg.score(x_test, y_test))"
   ]
  },
  {
   "cell_type": "markdown",
   "id": "830c94aa",
   "metadata": {},
   "source": [
    "### b. Polynomial Regression"
   ]
  },
  {
   "cell_type": "code",
   "execution_count": 10,
   "id": "ae9f0065",
   "metadata": {},
   "outputs": [
    {
     "name": "stdout",
     "output_type": "stream",
     "text": [
      "Accuracy score : \n",
      "0.6498023952814466\n"
     ]
    }
   ],
   "source": [
    "#transformasi data menjadi model polinomial berderajat 2\n",
    "x_train_transform = PolynomialFeatures(degree = 2, include_bias = False).fit_transform(x_train)\n",
    "x_test_transform = PolynomialFeatures(degree = 2, include_bias = False).fit_transform(x_test)\n",
    "\n",
    "#buat model regresi\n",
    "model_regpoli = LinearRegression().fit(x_train_transform, y_train)\n",
    "\n",
    "\n",
    "#Tentukan skor akurasi dari model\n",
    "print('Accuracy score : ')\n",
    "print(model_regpoli.score(x_test_transform, y_test))"
   ]
  },
  {
   "cell_type": "code",
   "execution_count": 11,
   "id": "b6d3e7c3",
   "metadata": {},
   "outputs": [
    {
     "name": "stdout",
     "output_type": "stream",
     "text": [
      "Accuracy score : \n",
      "0.1695337700714138\n"
     ]
    }
   ],
   "source": [
    "#transformasi data menjadi model polinomial berderajat 3\n",
    "x_train_transform = PolynomialFeatures(degree = 3, include_bias = False).fit_transform(x_train)\n",
    "x_test_transform = PolynomialFeatures(degree = 3, include_bias = False).fit_transform(x_test)\n",
    "\n",
    "#buat model regresi\n",
    "model_regpoli = LinearRegression().fit(x_train_transform, y_train)\n",
    "\n",
    "\n",
    "#Tentukan skor akurasi dari model\n",
    "print('Accuracy score : ')\n",
    "print(model_regpoli.score(x_test_transform, y_test))"
   ]
  },
  {
   "cell_type": "code",
   "execution_count": 12,
   "id": "f5548af1",
   "metadata": {},
   "outputs": [
    {
     "name": "stdout",
     "output_type": "stream",
     "text": [
      "Accuracy score : \n",
      "0.6794317140657777\n"
     ]
    }
   ],
   "source": [
    "#transformasi data menjadi model polinomial berderajat 4\n",
    "x_train_transform = PolynomialFeatures(degree = 4, include_bias = False).fit_transform(x_train)\n",
    "x_test_transform = PolynomialFeatures(degree = 4, include_bias = False).fit_transform(x_test)\n",
    "\n",
    "#buat model regresi\n",
    "model_regpoli = LinearRegression().fit(x_train_transform, y_train)\n",
    "\n",
    "#Tentukan skor akurasi dari model\n",
    "print('Accuracy score : ')\n",
    "print(model_regpoli.score(x_test_transform, y_test))"
   ]
  },
  {
   "cell_type": "markdown",
   "id": "d5b2a997",
   "metadata": {},
   "source": [
    "### c. Logistic Regression"
   ]
  },
  {
   "cell_type": "code",
   "execution_count": 13,
   "id": "244d8dae",
   "metadata": {},
   "outputs": [
    {
     "name": "stdout",
     "output_type": "stream",
     "text": [
      "Accuracy score : \n",
      "0.8441558441558441 \n",
      "\n",
      "Confusion Matrix :\n",
      "[[108  36]\n",
      " [ 12 152]]\n"
     ]
    },
    {
     "name": "stderr",
     "output_type": "stream",
     "text": [
      "C:\\ProgramData\\Anaconda3\\lib\\site-packages\\sklearn\\linear_model\\_logistic.py:763: ConvergenceWarning: lbfgs failed to converge (status=1):\n",
      "STOP: TOTAL NO. of ITERATIONS REACHED LIMIT.\n",
      "\n",
      "Increase the number of iterations (max_iter) or scale the data as shown in:\n",
      "    https://scikit-learn.org/stable/modules/preprocessing.html\n",
      "Please also refer to the documentation for alternative solver options:\n",
      "    https://scikit-learn.org/stable/modules/linear_model.html#logistic-regression\n",
      "  n_iter_i = _check_optimize_result(\n"
     ]
    }
   ],
   "source": [
    "#buat model regresi\n",
    "model_log = LogisticRegression().fit(x_train, y_train)\n",
    "\n",
    "#prediksi model pada data test\n",
    "pred_test = model_log.predict(x_test)\n",
    "\n",
    "#Tentukan skor akurasi dari model\n",
    "print('Accuracy score : ')\n",
    "print(accuracy_score(y_test, pred_test),'\\n')\n",
    "\n",
    "#Tentukan Confusion Matrixnya\n",
    "matrix = confusion_matrix(y_test, pred_test)\n",
    "print('Confusion Matrix :')\n",
    "print(matrix)"
   ]
  },
  {
   "cell_type": "code",
   "execution_count": 19,
   "id": "e88e60ce",
   "metadata": {},
   "outputs": [
    {
     "data": {
      "image/png": "[encoded data removed]",
      "text/plain": [
       "<Figure size 576x576 with 1 Axes>"
      ]
     },
     "metadata": {
      "needs_background": "light"
     },
     "output_type": "display_data"
    }
   ],
   "source": [
    "#visualisasi confusion matrix\n",
    "\n",
    "fig, ax = plt.subplots(figsize=(8,8))\n",
    "ax.imshow(matrix)\n",
    "ax.grid(False)\n",
    "ax.xaxis.set(ticks=(0,1), ticklabels=('Predicted 0s', 'Predicted 1s'))\n",
    "ax.yaxis.set(ticks=(0,1), ticklabels=('Actual 0s', 'Actual 1s'))\n",
    "ax.set_ylim(1.5, -0.5)\n",
    "for i in range(2):\n",
    "    for j in range(2):\n",
    "        ax.text(j, i, matrix[i,j], ha='center', va='center', color='white')\n",
    "plt.show()"
   ]
  },
  {
   "cell_type": "markdown",
   "id": "824a61bf",
   "metadata": {},
   "source": [
    "### d. Decision Tree Alghorithm"
   ]
  },
  {
   "cell_type": "code",
   "execution_count": 20,
   "id": "4cfc720d",
   "metadata": {},
   "outputs": [
    {
     "name": "stdout",
     "output_type": "stream",
     "text": [
      "Accuracy score : \n",
      "1.0 \n",
      "\n",
      "Confusion Matrix :\n",
      "[[144   0]\n",
      " [  0 164]]\n"
     ]
    }
   ],
   "source": [
    "#buat model\n",
    "model_dt = tree.DecisionTreeClassifier().fit(x_train, y_train)\n",
    "\n",
    "#prediksi model pada data test\n",
    "pred_test = model_dt.predict(x_test)\n",
    "\n",
    "#Tentukan skor akurasi dari model\n",
    "print('Accuracy score : ')\n",
    "print(accuracy_score(y_test, pred_test),'\\n')\n",
    "\n",
    "#Tentukan Confusion Matrixnya\n",
    "matrix = confusion_matrix(y_test, pred_test)\n",
    "print('Confusion Matrix :')\n",
    "print(matrix)"
   ]
  },
  {
   "cell_type": "code",
   "execution_count": 21,
   "id": "30dd8828",
   "metadata": {},
   "outputs": [
    {
     "data": {
      "image/png": "[encoded data removed]",
      "text/plain": [
       "<Figure size 576x576 with 1 Axes>"
      ]
     },
     "metadata": {
      "needs_background": "light"
     },
     "output_type": "display_data"
    }
   ],
   "source": [
    "#visualisasi confusion matrix\n",
    "\n",
    "fig, ax = plt.subplots(figsize=(8,8))\n",
    "ax.imshow(matrix)\n",
    "ax.grid(False)\n",
    "ax.xaxis.set(ticks=(0,1), ticklabels=('Predicted 0s', 'Predicted 1s'))\n",
    "ax.yaxis.set(ticks=(0,1), ticklabels=('Actual 0s', 'Actual 1s'))\n",
    "ax.set_ylim(1.5, -0.5)\n",
    "for i in range(2):\n",
    "    for j in range(2):\n",
    "        ax.text(j, i, matrix[i,j], ha='center', va='center', color='white')\n",
    "plt.show()"
   ]
  },
  {
   "cell_type": "markdown",
   "id": "be7fedb6",
   "metadata": {},
   "source": [
    "### e. Random Forest Algorithm"
   ]
  },
  {
   "cell_type": "code",
   "execution_count": 22,
   "id": "2d2e6757",
   "metadata": {},
   "outputs": [
    {
     "name": "stdout",
     "output_type": "stream",
     "text": [
      "Accuracy score : \n",
      "1.0 \n",
      "\n",
      "Confusion Matrix :\n",
      "[[144   0]\n",
      " [  0 164]]\n"
     ]
    }
   ],
   "source": [
    "#buat model\n",
    "model_rf = RandomForestClassifier().fit(x_train, y_train)\n",
    "\n",
    "#prediksi model pada data test\n",
    "pred_test = model_rf.predict(x_test)\n",
    "\n",
    "#Tentukan skor akurasi dari model\n",
    "print('Accuracy score : ')\n",
    "print(accuracy_score(y_test, pred_test),'\\n')\n",
    "\n",
    "#Tentukan Confusion Matrixnya\n",
    "matrix = confusion_matrix(y_test, pred_test)\n",
    "print('Confusion Matrix :')\n",
    "print(matrix)"
   ]
  },
  {
   "cell_type": "code",
   "execution_count": 23,
   "id": "44a6ebd3",
   "metadata": {},
   "outputs": [
    {
     "data": {
      "image/png": "[encoded data removed]",
      "text/plain": [
       "<Figure size 576x576 with 1 Axes>"
      ]
     },
     "metadata": {
      "needs_background": "light"
     },
     "output_type": "display_data"
    }
   ],
   "source": [
    "#visualisasi confusion matrix\n",
    "\n",
    "fig, ax = plt.subplots(figsize=(8,8))\n",
    "ax.imshow(matrix)\n",
    "ax.grid(False)\n",
    "ax.xaxis.set(ticks=(0,1), ticklabels=('Predicted 0s', 'Predicted 1s'))\n",
    "ax.yaxis.set(ticks=(0,1), ticklabels=('Actual 0s', 'Actual 1s'))\n",
    "ax.set_ylim(1.5, -0.5)\n",
    "for i in range(2):\n",
    "    for j in range(2):\n",
    "        ax.text(j, i, matrix[i,j], ha='center', va='center', color='white')\n",
    "plt.show()"
   ]
  },
  {
   "cell_type": "markdown",
   "id": "095699b4",
   "metadata": {},
   "source": [
    "### f. Support Vector Machine"
   ]
  },
  {
   "cell_type": "code",
   "execution_count": 24,
   "id": "16697e81",
   "metadata": {},
   "outputs": [
    {
     "name": "stdout",
     "output_type": "stream",
     "text": [
      "Accuracy score: \n",
      "0.672077922077922 \n",
      "\n",
      "Confusion Matrix :\n",
      "[[ 94  50]\n",
      " [ 51 113]]\n"
     ]
    }
   ],
   "source": [
    "#buat model\n",
    "model_svm = svm.SVC().fit(x_train, y_train)\n",
    "\n",
    "#prediksi model pada data test\n",
    "pred_test = model_svm.predict(x_test)\n",
    "\n",
    "#Tentukan skor akurasi dari model\n",
    "print('Accuracy score: ')\n",
    "print(accuracy_score(y_test, pred_test),'\\n')\n",
    "\n",
    "#Tentukan Confusion Matrixnya\n",
    "matrix = confusion_matrix(y_test, pred_test)\n",
    "print('Confusion Matrix :')\n",
    "print(matrix)"
   ]
  },
  {
   "cell_type": "code",
   "execution_count": 25,
   "id": "759058a0",
   "metadata": {},
   "outputs": [
    {
     "data": {
      "image/png": "[encoded data removed]",
      "text/plain": [
       "<Figure size 576x576 with 1 Axes>"
      ]
     },
     "metadata": {
      "needs_background": "light"
     },
     "output_type": "display_data"
    }
   ],
   "source": [
    "#visualisasi confusion matrix\n",
    "\n",
    "fig, ax = plt.subplots(figsize=(8,8))\n",
    "ax.imshow(matrix)\n",
    "ax.grid(False)\n",
    "ax.xaxis.set(ticks=(0,1), ticklabels=('Predicted 0s', 'Predicted 1s'))\n",
    "ax.yaxis.set(ticks=(0,1), ticklabels=('Actual 0s', 'Actual 1s'))\n",
    "ax.set_ylim(1.5, -0.5)\n",
    "for i in range(2):\n",
    "    for j in range(2):\n",
    "        ax.text(j, i, matrix[i,j], ha='center', va='center', color='white')\n",
    "plt.show()"
   ]
  },
  {
   "cell_type": "markdown",
   "id": "90d34e00",
   "metadata": {},
   "source": [
    "### g. Naive Bayes Algorithm"
   ]
  },
  {
   "cell_type": "code",
   "execution_count": 26,
   "id": "f4a0b703",
   "metadata": {},
   "outputs": [
    {
     "name": "stdout",
     "output_type": "stream",
     "text": [
      "Accuracy score : \n",
      "0.8376623376623377 \n",
      "\n",
      "Confusion Matrix :\n",
      "[[117  27]\n",
      " [ 23 141]]\n"
     ]
    }
   ],
   "source": [
    "#buat model\n",
    "nb = GaussianNB().fit(x_train, y_train)\n",
    "\n",
    "#prediksi model pada data test\n",
    "pred_test = nb.predict(x_test)\n",
    "\n",
    "#Tentukan skor akurasi dari model\n",
    "print('Accuracy score : ')\n",
    "print(accuracy_score(y_test, pred_test),'\\n')\n",
    "\n",
    "#Tentukan Confusion Matrixnya\n",
    "matrix = confusion_matrix(y_test, pred_test)\n",
    "print('Confusion Matrix :')\n",
    "print(matrix)"
   ]
  },
  {
   "cell_type": "code",
   "execution_count": 27,
   "id": "0e44a571",
   "metadata": {},
   "outputs": [
    {
     "data": {
      "image/png": "[encoded data removed]",
      "text/plain": [
       "<Figure size 576x576 with 1 Axes>"
      ]
     },
     "metadata": {
      "needs_background": "light"
     },
     "output_type": "display_data"
    }
   ],
   "source": [
    "#visualisasi confusion matrix\n",
    "\n",
    "fig, ax = plt.subplots(figsize=(8,8))\n",
    "ax.imshow(matrix)\n",
    "ax.grid(False)\n",
    "ax.xaxis.set(ticks=(0,1), ticklabels=('Predicted 0s', 'Predicted 1s'))\n",
    "ax.yaxis.set(ticks=(0,1), ticklabels=('Actual 0s', 'Actual 1s'))\n",
    "ax.set_ylim(1.5, -0.5)\n",
    "for i in range(2):\n",
    "    for j in range(2):\n",
    "        ax.text(j, i, matrix[i,j], ha='center', va='center', color='white')\n",
    "plt.show()"
   ]
  },
  {
   "cell_type": "markdown",
   "id": "75ae191a",
   "metadata": {},
   "source": [
    "### h. K-Nearest Neightbor (KNN) Algorithm"
   ]
  },
  {
   "cell_type": "code",
   "execution_count": 28,
   "id": "776c5e28",
   "metadata": {},
   "outputs": [
    {
     "name": "stdout",
     "output_type": "stream",
     "text": [
      "Accuracy score : \n",
      "0.7305194805194806 \n",
      "\n",
      "Confusion Matrix :\n",
      "[[112  32]\n",
      " [ 51 113]]\n"
     ]
    }
   ],
   "source": [
    "#buat model\n",
    "knn = KNeighborsClassifier().fit(x_train, y_train)\n",
    "\n",
    "#prediksi model pada data test\n",
    "pred_test = knn.predict(x_test)\n",
    "\n",
    "#Tentukan skor akurasi dari model\n",
    "print('Accuracy score : ')\n",
    "print(accuracy_score(y_test, pred_test),'\\n')\n",
    "\n",
    "#Tentukan Confusion Matrixnya\n",
    "matrix = confusion_matrix(y_test, pred_test)\n",
    "print('Confusion Matrix :')\n",
    "print(matrix)"
   ]
  },
  {
   "cell_type": "code",
   "execution_count": 29,
   "id": "2247ea32",
   "metadata": {},
   "outputs": [
    {
     "data": {
      "image/png": "[encoded data removed]",
      "text/plain": [
       "<Figure size 576x576 with 1 Axes>"
      ]
     },
     "metadata": {
      "needs_background": "light"
     },
     "output_type": "display_data"
    }
   ],
   "source": [
    "#visualisasi confusion matrix\n",
    "\n",
    "fig, ax = plt.subplots(figsize=(8,8))\n",
    "ax.imshow(matrix)\n",
    "ax.grid(False)\n",
    "ax.xaxis.set(ticks=(0,1), ticklabels=('Predicted 0s', 'Predicted 1s'))\n",
    "ax.yaxis.set(ticks=(0,1), ticklabels=('Actual 0s', 'Actual 1s'))\n",
    "ax.set_ylim(1.5, -0.5)\n",
    "for i in range(2):\n",
    "    for j in range(2):\n",
    "        ax.text(j, i, matrix[i,j], ha='center', va='center', color='white')\n",
    "plt.show()"
   ]
  },
  {
   "cell_type": "code",
   "execution_count": null,
   "id": "49592357",
   "metadata": {},
   "outputs": [],
   "source": []
  }
 ],
 "metadata": {
  "kernelspec": {
   "display_name": "Python 3",
   "language": "python",
   "name": "python3"
  },
  "language_info": {
   "codemirror_mode": {
    "name": "ipython",
    "version": 3
   },
   "file_extension": ".py",
   "mimetype": "text/x-python",
   "name": "python",
   "nbconvert_exporter": "python",
   "pygments_lexer": "ipython3",
   "version": "3.8.8"
  }
 },
 "nbformat": 4,
 "nbformat_minor": 5
}
