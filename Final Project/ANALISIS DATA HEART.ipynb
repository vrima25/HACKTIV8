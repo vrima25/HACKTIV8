{
 "cells": [
  {
   "cell_type": "markdown",
   "id": "933d5d9c",
   "metadata": {},
   "source": [
    "# import package yang diperlukan"
   ]
  },
  {
   "cell_type": "code",
   "execution_count": 40,
   "id": "0cc498bf",
   "metadata": {},
   "outputs": [],
   "source": [
    "import numpy as np\n",
    "import pandas as pd\n",
    "import matplotlib.pyplot as plt\n",
    "import seaborn as sns\n",
    "\n",
    "from sklearn.linear_model import LinearRegression\n",
    "from sklearn.preprocessing import PolynomialFeatures\n",
    "from sklearn.linear_model import LogisticRegression\n",
    "from sklearn.metrics import accuracy_score, confusion_matrix\n",
    "from sklearn.model_selection import train_test_split\n",
    "from sklearn.ensemble import RandomForestClassifier\n",
    "from sklearn.neighbors import KNeighborsClassifier\n",
    "from sklearn import tree\n",
    "from sklearn import svm\n",
    "from sklearn.naive_bayes import GaussianNB"
   ]
  },
  {
   "cell_type": "markdown",
   "id": "4a01c417",
   "metadata": {},
   "source": [
    "#### import data frame"
   ]
  },
  {
   "cell_type": "code",
   "execution_count": 3,
   "id": "fc3fba49",
   "metadata": {},
   "outputs": [],
   "source": [
    "df = pd.read_csv('heart.csv')"
   ]
  },
  {
   "cell_type": "code",
   "execution_count": 4,
   "id": "3a2eb4c7",
   "metadata": {},
   "outputs": [
    {
     "name": "stdout",
     "output_type": "stream",
     "text": [
      "<class 'pandas.core.frame.DataFrame'>\n",
      "RangeIndex: 1025 entries, 0 to 1024\n",
      "Data columns (total 14 columns):\n",
      " #   Column    Non-Null Count  Dtype  \n",
      "---  ------    --------------  -----  \n",
      " 0   age       1025 non-null   int64  \n",
      " 1   sex       1025 non-null   int64  \n",
      " 2   cp        1025 non-null   int64  \n",
      " 3   trestbps  1025 non-null   int64  \n",
      " 4   chol      1025 non-null   int64  \n",
      " 5   fbs       1025 non-null   int64  \n",
      " 6   restecg   1025 non-null   int64  \n",
      " 7   thalach   1025 non-null   int64  \n",
      " 8   exang     1025 non-null   int64  \n",
      " 9   oldpeak   1025 non-null   float64\n",
      " 10  slope     1025 non-null   int64  \n",
      " 11  ca        1025 non-null   int64  \n",
      " 12  thal      1025 non-null   int64  \n",
      " 13  target    1025 non-null   int64  \n",
      "dtypes: float64(1), int64(13)\n",
      "memory usage: 112.2 KB\n"
     ]
    }
   ],
   "source": [
    "#tampilkan informasi data frame\n",
    "df.info()"
   ]
  },
  {
   "cell_type": "code",
   "execution_count": 9,
   "id": "b680325e",
   "metadata": {},
   "outputs": [
    {
     "data": {
      "text/html": [
       "<div>\n",
       "<style scoped>\n",
       "    .dataframe tbody tr th:only-of-type {\n",
       "        vertical-align: middle;\n",
       "    }\n",
       "\n",
       "    .dataframe tbody tr th {\n",
       "        vertical-align: top;\n",
       "    }\n",
       "\n",
       "    .dataframe thead th {\n",
       "        text-align: right;\n",
       "    }\n",
       "</style>\n",
       "<table border=\"1\" class=\"dataframe\">\n",
       "  <thead>\n",
       "    <tr style=\"text-align: right;\">\n",
       "      <th></th>\n",
       "      <th>age</th>\n",
       "      <th>sex</th>\n",
       "      <th>cp</th>\n",
       "      <th>trestbps</th>\n",
       "      <th>chol</th>\n",
       "      <th>fbs</th>\n",
       "      <th>restecg</th>\n",
       "      <th>thalach</th>\n",
       "      <th>exang</th>\n",
       "      <th>oldpeak</th>\n",
       "      <th>slope</th>\n",
       "      <th>ca</th>\n",
       "      <th>thal</th>\n",
       "      <th>target</th>\n",
       "    </tr>\n",
       "  </thead>\n",
       "  <tbody>\n",
       "    <tr>\n",
       "      <th>0</th>\n",
       "      <td>52</td>\n",
       "      <td>1</td>\n",
       "      <td>0</td>\n",
       "      <td>125</td>\n",
       "      <td>212</td>\n",
       "      <td>0</td>\n",
       "      <td>1</td>\n",
       "      <td>168</td>\n",
       "      <td>0</td>\n",
       "      <td>1.0</td>\n",
       "      <td>2</td>\n",
       "      <td>2</td>\n",
       "      <td>3</td>\n",
       "      <td>0</td>\n",
       "    </tr>\n",
       "    <tr>\n",
       "      <th>1</th>\n",
       "      <td>53</td>\n",
       "      <td>1</td>\n",
       "      <td>0</td>\n",
       "      <td>140</td>\n",
       "      <td>203</td>\n",
       "      <td>1</td>\n",
       "      <td>0</td>\n",
       "      <td>155</td>\n",
       "      <td>1</td>\n",
       "      <td>3.1</td>\n",
       "      <td>0</td>\n",
       "      <td>0</td>\n",
       "      <td>3</td>\n",
       "      <td>0</td>\n",
       "    </tr>\n",
       "    <tr>\n",
       "      <th>2</th>\n",
       "      <td>70</td>\n",
       "      <td>1</td>\n",
       "      <td>0</td>\n",
       "      <td>145</td>\n",
       "      <td>174</td>\n",
       "      <td>0</td>\n",
       "      <td>1</td>\n",
       "      <td>125</td>\n",
       "      <td>1</td>\n",
       "      <td>2.6</td>\n",
       "      <td>0</td>\n",
       "      <td>0</td>\n",
       "      <td>3</td>\n",
       "      <td>0</td>\n",
       "    </tr>\n",
       "    <tr>\n",
       "      <th>3</th>\n",
       "      <td>61</td>\n",
       "      <td>1</td>\n",
       "      <td>0</td>\n",
       "      <td>148</td>\n",
       "      <td>203</td>\n",
       "      <td>0</td>\n",
       "      <td>1</td>\n",
       "      <td>161</td>\n",
       "      <td>0</td>\n",
       "      <td>0.0</td>\n",
       "      <td>2</td>\n",
       "      <td>1</td>\n",
       "      <td>3</td>\n",
       "      <td>0</td>\n",
       "    </tr>\n",
       "    <tr>\n",
       "      <th>4</th>\n",
       "      <td>62</td>\n",
       "      <td>0</td>\n",
       "      <td>0</td>\n",
       "      <td>138</td>\n",
       "      <td>294</td>\n",
       "      <td>1</td>\n",
       "      <td>1</td>\n",
       "      <td>106</td>\n",
       "      <td>0</td>\n",
       "      <td>1.9</td>\n",
       "      <td>1</td>\n",
       "      <td>3</td>\n",
       "      <td>2</td>\n",
       "      <td>0</td>\n",
       "    </tr>\n",
       "    <tr>\n",
       "      <th>5</th>\n",
       "      <td>58</td>\n",
       "      <td>0</td>\n",
       "      <td>0</td>\n",
       "      <td>100</td>\n",
       "      <td>248</td>\n",
       "      <td>0</td>\n",
       "      <td>0</td>\n",
       "      <td>122</td>\n",
       "      <td>0</td>\n",
       "      <td>1.0</td>\n",
       "      <td>1</td>\n",
       "      <td>0</td>\n",
       "      <td>2</td>\n",
       "      <td>1</td>\n",
       "    </tr>\n",
       "    <tr>\n",
       "      <th>6</th>\n",
       "      <td>58</td>\n",
       "      <td>1</td>\n",
       "      <td>0</td>\n",
       "      <td>114</td>\n",
       "      <td>318</td>\n",
       "      <td>0</td>\n",
       "      <td>2</td>\n",
       "      <td>140</td>\n",
       "      <td>0</td>\n",
       "      <td>4.4</td>\n",
       "      <td>0</td>\n",
       "      <td>3</td>\n",
       "      <td>1</td>\n",
       "      <td>0</td>\n",
       "    </tr>\n",
       "    <tr>\n",
       "      <th>7</th>\n",
       "      <td>55</td>\n",
       "      <td>1</td>\n",
       "      <td>0</td>\n",
       "      <td>160</td>\n",
       "      <td>289</td>\n",
       "      <td>0</td>\n",
       "      <td>0</td>\n",
       "      <td>145</td>\n",
       "      <td>1</td>\n",
       "      <td>0.8</td>\n",
       "      <td>1</td>\n",
       "      <td>1</td>\n",
       "      <td>3</td>\n",
       "      <td>0</td>\n",
       "    </tr>\n",
       "    <tr>\n",
       "      <th>8</th>\n",
       "      <td>46</td>\n",
       "      <td>1</td>\n",
       "      <td>0</td>\n",
       "      <td>120</td>\n",
       "      <td>249</td>\n",
       "      <td>0</td>\n",
       "      <td>0</td>\n",
       "      <td>144</td>\n",
       "      <td>0</td>\n",
       "      <td>0.8</td>\n",
       "      <td>2</td>\n",
       "      <td>0</td>\n",
       "      <td>3</td>\n",
       "      <td>0</td>\n",
       "    </tr>\n",
       "    <tr>\n",
       "      <th>9</th>\n",
       "      <td>54</td>\n",
       "      <td>1</td>\n",
       "      <td>0</td>\n",
       "      <td>122</td>\n",
       "      <td>286</td>\n",
       "      <td>0</td>\n",
       "      <td>0</td>\n",
       "      <td>116</td>\n",
       "      <td>1</td>\n",
       "      <td>3.2</td>\n",
       "      <td>1</td>\n",
       "      <td>2</td>\n",
       "      <td>2</td>\n",
       "      <td>0</td>\n",
       "    </tr>\n",
       "  </tbody>\n",
       "</table>\n",
       "</div>"
      ],
      "text/plain": [
       "   age  sex  cp  trestbps  chol  fbs  restecg  thalach  exang  oldpeak  slope  \\\n",
       "0   52    1   0       125   212    0        1      168      0      1.0      2   \n",
       "1   53    1   0       140   203    1        0      155      1      3.1      0   \n",
       "2   70    1   0       145   174    0        1      125      1      2.6      0   \n",
       "3   61    1   0       148   203    0        1      161      0      0.0      2   \n",
       "4   62    0   0       138   294    1        1      106      0      1.9      1   \n",
       "5   58    0   0       100   248    0        0      122      0      1.0      1   \n",
       "6   58    1   0       114   318    0        2      140      0      4.4      0   \n",
       "7   55    1   0       160   289    0        0      145      1      0.8      1   \n",
       "8   46    1   0       120   249    0        0      144      0      0.8      2   \n",
       "9   54    1   0       122   286    0        0      116      1      3.2      1   \n",
       "\n",
       "   ca  thal  target  \n",
       "0   2     3       0  \n",
       "1   0     3       0  \n",
       "2   0     3       0  \n",
       "3   1     3       0  \n",
       "4   3     2       0  \n",
       "5   0     2       1  \n",
       "6   3     1       0  \n",
       "7   1     3       0  \n",
       "8   0     3       0  \n",
       "9   2     2       0  "
      ]
     },
     "execution_count": 9,
     "metadata": {},
     "output_type": "execute_result"
    }
   ],
   "source": [
    "#dari info di atas diketahui bahwa data frame tidak memiliki data null\n",
    "#Tampilkan data teratas dari data frame\n",
    "df.head(10)"
   ]
  },
  {
   "cell_type": "code",
   "execution_count": 11,
   "id": "31159bc2",
   "metadata": {},
   "outputs": [],
   "source": [
    "#tentukan kolom feature dan kolom target\n",
    "x = df.drop('target', 1)\n",
    "y = df.target\n",
    "\n",
    "#split data menjadi data train dan data test dengan rasio 30% untuk data test\n",
    "x_train, x_test, y_train, y_test = train_test_split(x, y, test_size = 0.3)"
   ]
  },
  {
   "cell_type": "markdown",
   "id": "d4eed206",
   "metadata": {},
   "source": [
    "# Analisa Data Menggunakan Metode-Metode berikut"
   ]
  },
  {
   "cell_type": "markdown",
   "id": "4beb6e92",
   "metadata": {},
   "source": [
    "### a. Linear Regression"
   ]
  },
  {
   "cell_type": "code",
   "execution_count": 41,
   "id": "3dd08fc4",
   "metadata": {},
   "outputs": [
    {
     "name": "stdout",
     "output_type": "stream",
     "text": [
      "Accuracy score : \n",
      "0.5043952653018067\n"
     ]
    }
   ],
   "source": [
    "#buat model regresi\n",
    "model_reg = LinearRegression().fit(x_train, y_train)\n",
    "\n",
    "#Tentukan skor akurasi dari model\n",
    "print('Accuracy score : ')\n",
    "print(model_reg.score(x_test, y_test))"
   ]
  },
  {
   "cell_type": "markdown",
   "id": "bf6a7b8d",
   "metadata": {},
   "source": [
    "### b. Polynomial Regression"
   ]
  },
  {
   "cell_type": "code",
   "execution_count": 42,
   "id": "9daab598",
   "metadata": {},
   "outputs": [
    {
     "name": "stdout",
     "output_type": "stream",
     "text": [
      "Accuracy score : \n",
      "0.6513748277829285\n"
     ]
    }
   ],
   "source": [
    "#transformasi data menjadi model polinomial berderajat 2\n",
    "x_train_transform = PolynomialFeatures(degree = 2, include_bias = False).fit_transform(x_train)\n",
    "x_test_transform = PolynomialFeatures(degree = 2, include_bias = False).fit_transform(x_test)\n",
    "\n",
    "#buat model regresi\n",
    "model_regpoli = LinearRegression().fit(x_train_transform, y_train)\n",
    "\n",
    "\n",
    "#Tentukan skor akurasi dari model\n",
    "print('Accuracy score : ')\n",
    "print(model_regpoli.score(x_test_transform, y_test))"
   ]
  },
  {
   "cell_type": "code",
   "execution_count": 43,
   "id": "f2177bbb",
   "metadata": {},
   "outputs": [
    {
     "name": "stdout",
     "output_type": "stream",
     "text": [
      "Accuracy score : \n",
      "-0.2566169934746634\n"
     ]
    }
   ],
   "source": [
    "#transformasi data menjadi model polinomial berderajat 3\n",
    "x_train_transform = PolynomialFeatures(degree = 3, include_bias = False).fit_transform(x_train)\n",
    "x_test_transform = PolynomialFeatures(degree = 3, include_bias = False).fit_transform(x_test)\n",
    "\n",
    "#buat model regresi\n",
    "model_regpoli = LinearRegression().fit(x_train_transform, y_train)\n",
    "\n",
    "\n",
    "#Tentukan skor akurasi dari model\n",
    "print('Accuracy score : ')\n",
    "print(model_regpoli.score(x_test_transform, y_test))"
   ]
  },
  {
   "cell_type": "code",
   "execution_count": 44,
   "id": "a1802d4d",
   "metadata": {},
   "outputs": [
    {
     "name": "stdout",
     "output_type": "stream",
     "text": [
      "Accuracy score : \n",
      "0.6038156291286332\n"
     ]
    }
   ],
   "source": [
    "#transformasi data menjadi model polinomial berderajat 4\n",
    "x_train_transform = PolynomialFeatures(degree = 4, include_bias = False).fit_transform(x_train)\n",
    "x_test_transform = PolynomialFeatures(degree = 4, include_bias = False).fit_transform(x_test)\n",
    "\n",
    "#buat model regresi\n",
    "model_regpoli = LinearRegression().fit(x_train_transform, y_train)\n",
    "\n",
    "#Tentukan skor akurasi dari model\n",
    "print('Accuracy score : ')\n",
    "print(model_regpoli.score(x_test_transform, y_test))"
   ]
  },
  {
   "cell_type": "markdown",
   "id": "91fdb82e",
   "metadata": {},
   "source": [
    "### c. Logistic Regression"
   ]
  },
  {
   "cell_type": "code",
   "execution_count": 45,
   "id": "f1b48ec5",
   "metadata": {},
   "outputs": [
    {
     "name": "stdout",
     "output_type": "stream",
     "text": [
      "Accuracy score : \n",
      "0.8376623376623377 \n",
      "\n",
      "Confusion Matrix :\n",
      "[[120  25]\n",
      " [ 25 138]]\n"
     ]
    },
    {
     "name": "stderr",
     "output_type": "stream",
     "text": [
      "C:\\ProgramData\\Anaconda3\\lib\\site-packages\\sklearn\\linear_model\\_logistic.py:763: ConvergenceWarning: lbfgs failed to converge (status=1):\n",
      "STOP: TOTAL NO. of ITERATIONS REACHED LIMIT.\n",
      "\n",
      "Increase the number of iterations (max_iter) or scale the data as shown in:\n",
      "    https://scikit-learn.org/stable/modules/preprocessing.html\n",
      "Please also refer to the documentation for alternative solver options:\n",
      "    https://scikit-learn.org/stable/modules/linear_model.html#logistic-regression\n",
      "  n_iter_i = _check_optimize_result(\n"
     ]
    }
   ],
   "source": [
    "#buat model regresi\n",
    "model_log = LogisticRegression().fit(x_train, y_train)\n",
    "\n",
    "#prediksi model pada data test\n",
    "pred_test = model_log.predict(x_test)\n",
    "\n",
    "#Tentukan skor akurasi dari model\n",
    "print('Accuracy score : ')\n",
    "print(accuracy_score(y_test, pred_test),'\\n')\n",
    "\n",
    "#Tentukan Confusion Matrixnya\n",
    "matrix = confusion_matrix(y_test, pred_test)\n",
    "print('Confusion Matrix :')\n",
    "print(matrix)"
   ]
  },
  {
   "cell_type": "markdown",
   "id": "2b0cfb73",
   "metadata": {},
   "source": [
    "### d. Decision Tree Alghorithm"
   ]
  },
  {
   "cell_type": "code",
   "execution_count": 46,
   "id": "e7bb9108",
   "metadata": {},
   "outputs": [
    {
     "name": "stdout",
     "output_type": "stream",
     "text": [
      "Accuracy score : \n",
      "1.0 \n",
      "\n",
      "Confusion Matrix :\n",
      "[[145   0]\n",
      " [  0 163]]\n"
     ]
    }
   ],
   "source": [
    "#buat model\n",
    "model_dt = tree.DecisionTreeClassifier().fit(x_train, y_train)\n",
    "\n",
    "#prediksi model pada data test\n",
    "pred_test = model_dt.predict(x_test)\n",
    "\n",
    "#Tentukan skor akurasi dari model\n",
    "print('Accuracy score : ')\n",
    "print(accuracy_score(y_test, pred_test),'\\n')\n",
    "\n",
    "#Tentukan Confusion Matrixnya\n",
    "matrix = confusion_matrix(y_test, pred_test)\n",
    "print('Confusion Matrix :')\n",
    "print(matrix)"
   ]
  },
  {
   "cell_type": "markdown",
   "id": "2ac32fdb",
   "metadata": {},
   "source": [
    "### e. Random Forest Algorithm"
   ]
  },
  {
   "cell_type": "code",
   "execution_count": 47,
   "id": "f0c8c9bf",
   "metadata": {},
   "outputs": [
    {
     "name": "stdout",
     "output_type": "stream",
     "text": [
      "Accuracy score : \n",
      "0.9902597402597403 \n",
      "\n",
      "Confusion Matrix :\n",
      "[[142   3]\n",
      " [  0 163]]\n"
     ]
    }
   ],
   "source": [
    "#buat model\n",
    "model_rf = RandomForestClassifier().fit(x_train, y_train)\n",
    "\n",
    "#prediksi model pada data test\n",
    "pred_test = model_rf.predict(x_test)\n",
    "\n",
    "#Tentukan skor akurasi dari model\n",
    "print('Accuracy score : ')\n",
    "print(accuracy_score(y_test, pred_test),'\\n')\n",
    "\n",
    "#Tentukan Confusion Matrixnya\n",
    "matrix = confusion_matrix(y_test, pred_test)\n",
    "print('Confusion Matrix :')\n",
    "print(matrix)"
   ]
  },
  {
   "cell_type": "markdown",
   "id": "56a94917",
   "metadata": {},
   "source": [
    "### f. Support Vector Machine"
   ]
  },
  {
   "cell_type": "code",
   "execution_count": 48,
   "id": "2fa138cb",
   "metadata": {},
   "outputs": [
    {
     "name": "stdout",
     "output_type": "stream",
     "text": [
      "Accuracy score: \n",
      "0.6948051948051948 \n",
      "\n",
      "Confusion Matrix :\n",
      "[[ 86  59]\n",
      " [ 35 128]]\n"
     ]
    }
   ],
   "source": [
    "#buat model\n",
    "model_svm = svm.SVC().fit(x_train, y_train)\n",
    "\n",
    "#prediksi model pada data test\n",
    "pred_test = model_svm.predict(x_test)\n",
    "\n",
    "#Tentukan skor akurasi dari model\n",
    "print('Accuracy score: ')\n",
    "print(accuracy_score(y_test, pred_test),'\\n')\n",
    "\n",
    "#Tentukan Confusion Matrixnya\n",
    "matrix = confusion_matrix(y_test, pred_test)\n",
    "print('Confusion Matrix :')\n",
    "print(matrix)"
   ]
  },
  {
   "cell_type": "markdown",
   "id": "9b8f5b59",
   "metadata": {},
   "source": [
    "### g. Naive Bayes Algorithm"
   ]
  },
  {
   "cell_type": "code",
   "execution_count": 49,
   "id": "25109b94",
   "metadata": {},
   "outputs": [
    {
     "name": "stdout",
     "output_type": "stream",
     "text": [
      "Accuracy score : \n",
      "0.788961038961039 \n",
      "\n",
      "Confusion Matrix :\n",
      "[[113  32]\n",
      " [ 33 130]]\n"
     ]
    }
   ],
   "source": [
    "#buat model\n",
    "nb = GaussianNB().fit(x_train, y_train)\n",
    "\n",
    "#prediksi model pada data test\n",
    "pred_test = nb.predict(x_test)\n",
    "\n",
    "#Tentukan skor akurasi dari model\n",
    "print('Accuracy score : ')\n",
    "print(accuracy_score(y_test, pred_test),'\\n')\n",
    "\n",
    "#Tentukan Confusion Matrixnya\n",
    "matrix = confusion_matrix(y_test, pred_test)\n",
    "print('Confusion Matrix :')\n",
    "print(matrix)"
   ]
  },
  {
   "cell_type": "markdown",
   "id": "392a1575",
   "metadata": {},
   "source": [
    "### h. K-Nearest Neightbor (KNN) Algorithm"
   ]
  },
  {
   "cell_type": "code",
   "execution_count": 50,
   "id": "65935d69",
   "metadata": {},
   "outputs": [
    {
     "name": "stdout",
     "output_type": "stream",
     "text": [
      "Accuracy score : \n",
      "0.7337662337662337 \n",
      "\n",
      "Confusion Matrix :\n",
      "[[ 99  46]\n",
      " [ 36 127]]\n"
     ]
    }
   ],
   "source": [
    "#buat model\n",
    "knn = KNeighborsClassifier().fit(x_train, y_train)\n",
    "\n",
    "#prediksi model pada data test\n",
    "pred_test = knn.predict(x_test)\n",
    "\n",
    "#Tentukan skor akurasi dari model\n",
    "print('Accuracy score : ')\n",
    "print(accuracy_score(y_test, pred_test),'\\n')\n",
    "\n",
    "#Tentukan Confusion Matrixnya\n",
    "matrix = confusion_matrix(y_test, pred_test)\n",
    "print('Confusion Matrix :')\n",
    "print(matrix)"
   ]
  },
  {
   "cell_type": "markdown",
   "id": "c88edc74",
   "metadata": {},
   "source": [
    "# KESIMPULAN"
   ]
  },
  {
   "cell_type": "markdown",
   "id": "0ad4c918",
   "metadata": {},
   "source": [
    "Dari masing-masing accuracy score mengunakan setiap algoritma, diperoleh accuracu score tertinggi menggunakan Decision Tree Algorithm dengan accuracy score = 1. Namun ini bisa menjadi model yang overfitting.\n",
    "Diurutan selanjutnya, Random Forest Algorithm menghasilkan accuracy score 0.99, dengan false positive prediction = 3,\n",
    "model ini juga dikhawatirkan menjadi model yang overfitting.\n",
    "Selanjutnya, Logistic Regression Model memiliki accuracy score 0.837. Model ini mungkin lebih baik digunakan jika ingin menggunakan model pada data yang baru."
   ]
  },
  {
   "cell_type": "code",
   "execution_count": null,
   "id": "8110ab47",
   "metadata": {},
   "outputs": [],
   "source": []
  }
 ],
 "metadata": {
  "kernelspec": {
   "display_name": "Python 3",
   "language": "python",
   "name": "python3"
  },
  "language_info": {
   "codemirror_mode": {
    "name": "ipython",
    "version": 3
   },
   "file_extension": ".py",
   "mimetype": "text/x-python",
   "name": "python",
   "nbconvert_exporter": "python",
   "pygments_lexer": "ipython3",
   "version": "3.8.8"
  }
 },
 "nbformat": 4,
 "nbformat_minor": 5
}
