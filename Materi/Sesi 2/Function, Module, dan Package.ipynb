{
 "cells": [
  {
   "cell_type": "markdown",
   "id": "8cec3dfa",
   "metadata": {},
   "source": [
    "# Python Function"
   ]
  },
  {
   "cell_type": "markdown",
   "id": "14975506",
   "metadata": {},
   "source": [
    "#### Definition a Function"
   ]
  },
  {
   "cell_type": "code",
   "execution_count": 3,
   "id": "b0393e8f",
   "metadata": {},
   "outputs": [
    {
     "name": "stdout",
     "output_type": "stream",
     "text": [
      "8\n"
     ]
    }
   ],
   "source": [
    "def my_function(p,l):\n",
    "    'Function untuk menghitung luas'\n",
    "    print(p*l)\n",
    "    \n",
    "my_function(2,4)"
   ]
  },
  {
   "cell_type": "markdown",
   "id": "354a0c69",
   "metadata": {},
   "source": [
    "#### Calling a Function"
   ]
  },
  {
   "cell_type": "code",
   "execution_count": 4,
   "id": "950aca56",
   "metadata": {},
   "outputs": [
    {
     "name": "stdout",
     "output_type": "stream",
     "text": [
      "I'm first call to user defined function!\n",
      "Again second call to the same function\n"
     ]
    }
   ],
   "source": [
    "# Function definition is here\n",
    "def printme(str):\n",
    "    'This prints a passed string into this function'\n",
    "    print(str)\n",
    "    return\n",
    "\n",
    "# Now you can call printme function\n",
    "printme(\"I'm first call to user defined function!\")\n",
    "printme('Again second call to the same function')"
   ]
  },
  {
   "cell_type": "markdown",
   "id": "673417f9",
   "metadata": {},
   "source": [
    "#### Pass by reference vs value"
   ]
  },
  {
   "cell_type": "code",
   "execution_count": 7,
   "id": "e72f4a49",
   "metadata": {},
   "outputs": [
    {
     "name": "stdout",
     "output_type": "stream",
     "text": [
      "Values inside the function :  [10, 20, 30, [1, 2, 3, 4]]\n",
      "values outside the function:  [10, 20, 30, [1, 2, 3, 4]]\n"
     ]
    }
   ],
   "source": [
    "# function definition is here\n",
    "def changeme( mylist ):\n",
    "    'this changes a passed list into this function'\n",
    "    mylist.append([1,2,3,4]);\n",
    "    print('Values inside the function : ', mylist)\n",
    "    \n",
    "# now you can call changeme function\n",
    "mylist = [10,20,30]\n",
    "changeme(mylist)\n",
    "print('values outside the function: ', mylist)"
   ]
  },
  {
   "cell_type": "markdown",
   "id": "b4d9a41b",
   "metadata": {},
   "source": [
    "#### Keyword arguments"
   ]
  },
  {
   "cell_type": "code",
   "execution_count": 8,
   "id": "7a41274f",
   "metadata": {},
   "outputs": [
    {
     "name": "stdout",
     "output_type": "stream",
     "text": [
      "Hacktiv8\n"
     ]
    }
   ],
   "source": [
    "def printme( str ):\n",
    "    'this prints a passed string into this function'\n",
    "    print(str)\n",
    "    return\n",
    "\n",
    "printme( str = 'Hacktiv8')"
   ]
  },
  {
   "cell_type": "code",
   "execution_count": 9,
   "id": "25c174be",
   "metadata": {},
   "outputs": [
    {
     "name": "stdout",
     "output_type": "stream",
     "text": [
      "Name :  Ani\n",
      "Age :  10\n"
     ]
    }
   ],
   "source": [
    "def printinfo(name, age):\n",
    "    print('Name : ', name)\n",
    "    print('Age : ', age)\n",
    "    return\n",
    "\n",
    "printinfo(age = 10, name = 'Ani')"
   ]
  },
  {
   "cell_type": "markdown",
   "id": "aa959c72",
   "metadata": {},
   "source": [
    "#### The return Statement"
   ]
  },
  {
   "cell_type": "code",
   "execution_count": 11,
   "id": "cef0e668",
   "metadata": {},
   "outputs": [
    {
     "name": "stdout",
     "output_type": "stream",
     "text": [
      "Inside the function :  30\n",
      "Outside the function :  40\n"
     ]
    }
   ],
   "source": [
    "# function definition is here\n",
    "def sum(arg1, arg2):\n",
    "    total = arg1 + arg2\n",
    "    total2 = total + arg1\n",
    "    print('Inside the function : ', total)\n",
    "    return total2\n",
    "\n",
    "total = sum(10,20)\n",
    "print('Outside the function : ', total)"
   ]
  },
  {
   "cell_type": "markdown",
   "id": "97e75005",
   "metadata": {},
   "source": [
    "# Python Modules"
   ]
  },
  {
   "cell_type": "code",
   "execution_count": 13,
   "id": "c1f268c0",
   "metadata": {},
   "outputs": [],
   "source": [
    "# misal dibuat file mod.py dengan isi sbb:\n",
    "\n",
    "s = \"Hacktiv8-PTP Python For Data Science\"\n",
    "a = [100,200,300]\n",
    "\n",
    "def foo(arg):\n",
    "    print(f'arg = {arg}')\n",
    "    \n",
    "class Foo:\n",
    "    pass"
   ]
  },
  {
   "cell_type": "code",
   "execution_count": null,
   "id": "6033b57e",
   "metadata": {},
   "outputs": [],
   "source": [
    ">>> import mod\n",
    ">>> print(mod.s)\n",
    "Hacktiv8-PTP Python For Data science\n",
    ">>> mod.a\n",
    "[100, 200, 300]\n",
    ">>> mod.foo(['quux', 'corge', 'grault'])\n",
    "arg = ['quux', 'corge', 'grault']\n",
    ">>> x = mod.Foo()\n",
    ">>> x\n",
    "<mod.Foo object at 0x03C181F0>"
   ]
  },
  {
   "cell_type": "markdown",
   "id": "58ad461e",
   "metadata": {},
   "source": [
    "#### The import Statement"
   ]
  },
  {
   "cell_type": "code",
   "execution_count": null,
   "id": "e569238c",
   "metadata": {},
   "outputs": [],
   "source": [
    "import mod\n",
    "mod"
   ]
  },
  {
   "cell_type": "code",
   "execution_count": null,
   "id": "dea52b4e",
   "metadata": {},
   "outputs": [],
   "source": [
    "from mod import s, foo"
   ]
  },
  {
   "cell_type": "markdown",
   "id": "7f2e96e4",
   "metadata": {},
   "source": [
    "# Python Package"
   ]
  },
  {
   "cell_type": "markdown",
   "id": "50d99c4a",
   "metadata": {},
   "source": [
    "ada direktori pkg yang berisi dua modul, mod1.py dan mod2.py.\n",
    "isi modul tsb adalah :"
   ]
  },
  {
   "cell_type": "code",
   "execution_count": null,
   "id": "ae061210",
   "metadata": {},
   "outputs": [],
   "source": [
    "# mod1.py\n",
    "\n",
    "def foo():\n",
    "    print('[mod1] foo()')\n",
    "    \n",
    "class Foo:\n",
    "    pass"
   ]
  },
  {
   "cell_type": "code",
   "execution_count": null,
   "id": "d0c37b01",
   "metadata": {},
   "outputs": [],
   "source": [
    "# mod2.py\n",
    "\n",
    "def bar():\n",
    "    print('[mod2] bar()')\n",
    "    \n",
    "class Bar:\n",
    "    pass"
   ]
  },
  {
   "cell_type": "code",
   "execution_count": null,
   "id": "d16361e1",
   "metadata": {},
   "outputs": [],
   "source": [
    "# menggunakan package\n",
    "\n",
    "import pkg.mod1, pkg.mod2\n",
    "\n",
    "# jika hanya menggunakan sebagian package\n",
    "from pkg.mod1 import foo"
   ]
  },
  {
   "cell_type": "markdown",
   "id": "1a111f9c",
   "metadata": {},
   "source": [
    "# PIP"
   ]
  },
  {
   "cell_type": "markdown",
   "id": "0ac25960",
   "metadata": {},
   "source": [
    "#### Basic Package Installation"
   ]
  },
  {
   "cell_type": "code",
   "execution_count": null,
   "id": "4427a6e5",
   "metadata": {},
   "outputs": [],
   "source": [
    "pip install requests"
   ]
  },
  {
   "cell_type": "markdown",
   "id": "716ca9b7",
   "metadata": {},
   "source": [
    "dengan pip kita bisa menginstall package dengan cara perintah\n",
    "pip diikuti nama package yang akan diinstal"
   ]
  },
  {
   "cell_type": "code",
   "execution_count": null,
   "id": "d769411a",
   "metadata": {
    "collapsed": true
   },
   "outputs": [],
   "source": [
    "# contoh lainnya\n",
    "\n",
    "pip install pandas\n",
    "pip install matplotlib"
   ]
  }
 ],
 "metadata": {
  "kernelspec": {
   "display_name": "Python 3",
   "language": "python",
   "name": "python3"
  },
  "language_info": {
   "codemirror_mode": {
    "name": "ipython",
    "version": 3
   },
   "file_extension": ".py",
   "mimetype": "text/x-python",
   "name": "python",
   "nbconvert_exporter": "python",
   "pygments_lexer": "ipython3",
   "version": "3.8.8"
  }
 },
 "nbformat": 4,
 "nbformat_minor": 5
}
